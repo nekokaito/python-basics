{
 "cells": [
  {
   "cell_type": "code",
   "execution_count": 1,
   "id": "b0870998",
   "metadata": {},
   "outputs": [
    {
     "name": "stdout",
     "output_type": "stream",
     "text": [
      "['e', 'l', 'l', 'e', 'e', 'k', 'a', 'i']\n"
     ]
    }
   ],
   "source": [
    "import re\n",
    "\n",
    "txt = \"Hello Me Neko Kaitoo\"\n",
    "\n",
    "#Find all lower case characters alphabetically between \"a\" and \"m\":\n",
    "\n",
    "x = re.findall(\"[a-m]\", txt)\n",
    "print(x)"
   ]
  },
  {
   "cell_type": "code",
   "execution_count": 4,
   "id": "387b4fe7",
   "metadata": {},
   "outputs": [
    {
     "name": "stdout",
     "output_type": "stream",
     "text": [
      "['2', '2', '2', '0', '1', '0', '0', '5', '8']\n"
     ]
    }
   ],
   "source": [
    "import re\n",
    "\n",
    "txt = \"okie tell me how many numbers i have 222010058\"\n",
    "\n",
    "#Find all digit characters:\n",
    "\n",
    "x = re.findall(\"\\\\d\", txt)\n",
    "print(x)\n"
   ]
  },
  {
   "cell_type": "code",
   "execution_count": 9,
   "id": "cd1859d4",
   "metadata": {},
   "outputs": [
    {
     "name": "stdout",
     "output_type": "stream",
     "text": [
      "['maliha']\n"
     ]
    }
   ],
   "source": [
    "import re\n",
    "\n",
    "txt = \"maliha binta sumiya\"\n",
    "\n",
    "#Search for a sequence that starts with \"ma\", followed by two (any) characters, and an \"a\":\n",
    "\n",
    "x = re.findall(\"ma...a\", txt)\n",
    "print(x)"
   ]
  },
  {
   "cell_type": "code",
   "execution_count": 22,
   "id": "faeb3909",
   "metadata": {},
   "outputs": [
    {
     "name": "stdout",
     "output_type": "stream",
     "text": [
      "['kami']\n",
      "['ruhan']\n"
     ]
    }
   ],
   "source": [
    "import re\n",
    "\n",
    "txt = \"kami ruhan\"\n",
    "\n",
    "\n",
    "# start ^ and end $\n",
    "\n",
    "x = re.findall(\"^kami\", txt)\n",
    "y = re.findall(\"ruhan$\", txt)\n",
    "print(x)\n",
    "print(y)"
   ]
  },
  {
   "cell_type": "code",
   "execution_count": null,
   "id": "bf3b19d8",
   "metadata": {},
   "outputs": [
    {
     "name": "stdout",
     "output_type": "stream",
     "text": [
      "['M', 'l', 'i']\n"
     ]
    }
   ],
   "source": [
    "import re\n",
    "\n",
    "txt =  \"Maliha\"\n",
    "\n",
    "#exclude 'a' and 'h'\n",
    "\n",
    "print(re.findall(\"[^ah]\", txt))"
   ]
  },
  {
   "cell_type": "code",
   "execution_count": null,
   "id": "79f411fa",
   "metadata": {},
   "outputs": [
    {
     "name": "stdout",
     "output_type": "stream",
     "text": [
      "['4']\n",
      "['20', '10']\n",
      "Maliha \n"
     ]
    }
   ],
   "source": [
    "import re\n",
    "\n",
    "txt =  \"Maliha 222010428\"\n",
    "\n",
    "# Find all of the digits 4, 2, and 8\n",
    "print(re.findall(\"[4]\", txt))\n",
    "\n",
    "# [1st-2nd][1st-2nd] = 1st1st - 2nd2nd 00 - 22\n",
    "print(re.findall(\"[0-5][0-0]\", txt))\n",
    "\n",
    "#remove digits\n",
    "print(re.sub(r\"\\d\", \"\", txt))\n",
    "\n"
   ]
  },
  {
   "cell_type": "code",
   "execution_count": null,
   "id": "feba29c7",
   "metadata": {},
   "outputs": [],
   "source": []
  }
 ],
 "metadata": {
  "kernelspec": {
   "display_name": "Python 3",
   "language": "python",
   "name": "python3"
  },
  "language_info": {
   "codemirror_mode": {
    "name": "ipython",
    "version": 3
   },
   "file_extension": ".py",
   "mimetype": "text/x-python",
   "name": "python",
   "nbconvert_exporter": "python",
   "pygments_lexer": "ipython3",
   "version": "3.13.5"
  }
 },
 "nbformat": 4,
 "nbformat_minor": 5
}
